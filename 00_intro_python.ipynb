{
  "nbformat": 4,
  "nbformat_minor": 0,
  "metadata": {
    "colab": {
      "provenance": [],
      "authorship_tag": "ABX9TyM9/MyxBrhpo22gJf25KZTb",
      "include_colab_link": true
    },
    "kernelspec": {
      "name": "python3",
      "display_name": "Python 3"
    },
    "language_info": {
      "name": "python"
    }
  },
  "cells": [
    {
      "cell_type": "markdown",
      "metadata": {
        "id": "view-in-github",
        "colab_type": "text"
      },
      "source": [
        "<a href=\"https://colab.research.google.com/github/zainub-nazish/Advanture-Game/blob/main/00_intro_python.ipynb\" target=\"_parent\"><img src=\"https://colab.research.google.com/assets/colab-badge.svg\" alt=\"Open In Colab\"/></a>"
      ]
    },
    {
      "cell_type": "code",
      "execution_count": 1,
      "metadata": {
        "colab": {
          "base_uri": "https://localhost:8080/",
          "height": 0
        },
        "id": "x0anhQoCrqH9",
        "outputId": "5d1ef211-cab9-4e79-d448-fb5a5cf2d66e"
      },
      "outputs": [
        {
          "output_type": "stream",
          "name": "stdout",
          "text": [
            "01_add_two_numbers\n",
            "This application for add two numbers\n",
            "Enter your first number5\n",
            "Enter your second.8\n",
            "The total sum of 5 and 8 is 13\n"
          ]
        }
      ],
      "source": [
        "print(\"01_add_two_numbers\")\n",
        "\n",
        "def add():\n",
        "  print(\"This application for add two numbers\")\n",
        "  first_number = int(input(\"Enter your first number\"))\n",
        "  second_number = int(input(\"Enter your second.\"))\n",
        "  total = int(first_number + second_number)\n",
        "  print(f'The total sum of {first_number} and {second_number} is {total}')\n",
        "\n",
        "if __name__ == \"__main__\":\n",
        "  add()\n",
        "\n",
        "\n",
        "\n",
        "\n",
        "\n"
      ]
    },
    {
      "cell_type": "code",
      "source": [
        "print(\"02_agreement_bot\")\n",
        "\n",
        "def bot():\n",
        "  animal = str(input(\"What their favorite animal is?\"))\n",
        "  print(f'My favorite animal is also {animal}!')\n",
        "\n",
        "if __name__ == \"__main__\":\n",
        "    bot()"
      ],
      "metadata": {
        "colab": {
          "base_uri": "https://localhost:8080/",
          "height": 0
        },
        "id": "TuRDoTgi3U9O",
        "outputId": "52a52474-67ff-4758-fd3b-53d3ea5e5ceb"
      },
      "execution_count": 7,
      "outputs": [
        {
          "output_type": "stream",
          "name": "stdout",
          "text": [
            "02_agreement_bot\n",
            "What their favorite animal is?cat\n",
            "My favorite animal is also cat!\n"
          ]
        }
      ]
    },
    {
      "cell_type": "code",
      "source": [
        "print(\"03_fahrenheit_to_celsius\")\n",
        "\n",
        "def temp():\n",
        "    print(\"This code for converting farenheit to celsius\")\n",
        "    fahrenheit_degree = float(input(\"Enter your fahrenheit degree. \"))\n",
        "    celsius_degree = (fahrenheit_degree - 32) * 5.0/9.0\n",
        "    print(f'Temperature {fahrenheit_degree}F = {celsius_degree}C')\n",
        "\n",
        "if __name__ == \"__main__\":\n",
        "  temp()"
      ],
      "metadata": {
        "colab": {
          "base_uri": "https://localhost:8080/",
          "height": 0
        },
        "id": "cr3NuVNf4939",
        "outputId": "2f4fa6e3-76b3-4e55-af19-9b55ca0140b1"
      },
      "execution_count": 10,
      "outputs": [
        {
          "output_type": "stream",
          "name": "stdout",
          "text": [
            "03_fahrenheit_to_celsius\n",
            "This code for converting farenheit to celsius\n",
            "Enter your fahrenheit degree. 54\n",
            "Temperature 54.0F = 12.222222222222221C\n"
          ]
        }
      ]
    },
    {
      "cell_type": "code",
      "source": [
        "print(\"04_how_old_are_they\")\n",
        "\n",
        "def add_ages():\n",
        "  anthon:int = 21\n",
        "  beth:int = anthon + 6\n",
        "  chen:int = beth + 20\n",
        "  drew:int = chen + anthon\n",
        "  ethan:int = chen\n",
        "\n",
        "  print(\"Anthon is \" + str(anthon))\n",
        "  print(\"Beth is \" + str(beth))\n",
        "  print(\"Chen is \" + str(chen))\n",
        "  print(\"Drew is \" + str(drew))\n",
        "  print(\"Ethan is \" + str(ethan))\n",
        "\n",
        "if __name__ == \"__main__\":\n",
        "  add_ages()"
      ],
      "metadata": {
        "colab": {
          "base_uri": "https://localhost:8080/"
        },
        "id": "whoyNeg0-l8h",
        "outputId": "a50f466f-4b37-443d-9d80-692895504a22"
      },
      "execution_count": 12,
      "outputs": [
        {
          "output_type": "stream",
          "name": "stdout",
          "text": [
            "04_how_old_are_they\n",
            "Anthon is 21\n",
            "Beth is 27\n",
            "Chen is 47\n",
            "Drew is 68\n",
            "Ethan is 47\n"
          ]
        }
      ]
    },
    {
      "cell_type": "code",
      "source": [
        "print(\"05_triangle_perimeter\")\n",
        "\n",
        "def triangle():\n",
        "  print(\"This code is about perimeter of triangle.\")\n",
        "  side1:float = float(input(\"Enter your first side no of triangle. \"))\n",
        "  side2:float = float(input(\"Enter your second side no of triangle. \"))\n",
        "  side3:float = float(input(\"Enter your third side no of triangle.\"))\n",
        "  total:float = float(side1 + side2 + side3)\n",
        "  print(f'The perimeter of the triangle is {total}')\n",
        "\n",
        "if __name__ == \"__main__\":\n",
        "  triangle()\n"
      ],
      "metadata": {
        "colab": {
          "base_uri": "https://localhost:8080/"
        },
        "id": "930DFtWbCnvw",
        "outputId": "a955565c-37ab-4d67-bf13-fa319dfeb2f2"
      },
      "execution_count": 14,
      "outputs": [
        {
          "output_type": "stream",
          "name": "stdout",
          "text": [
            "05_triangle_perimeter\n",
            "This code is about perimeter of triangle.\n",
            "Enter your first side no of triangle. 5\n",
            "Enter your second side no of triangle. 3\n",
            "Enter your third side no of triangle.2\n",
            "The perimeter of the triangle is 10.0\n"
          ]
        }
      ]
    },
    {
      "cell_type": "code",
      "source": [
        "print(\"06_square_number\")\n",
        "\n",
        "def square():\n",
        "  print(\"This code is about square of given number\")\n",
        "  num1:int = int(input(\"Enter any number and i will give u a square value. \"))\n",
        "  print(f'The square of {num1} is {num1 ** 2}')\n",
        "\n",
        "if __name__ == \"__main__\":\n",
        "  square()"
      ],
      "metadata": {
        "colab": {
          "base_uri": "https://localhost:8080/"
        },
        "id": "OjqprGxQFds9",
        "outputId": "cf1f1171-2e9b-45b2-8580-e24e36e94c75"
      },
      "execution_count": 17,
      "outputs": [
        {
          "output_type": "stream",
          "name": "stdout",
          "text": [
            "06_square_number\n",
            "This code is about square of given number\n",
            "Enter any number and i will give u a square value. 5\n",
            "The square of 5 is 25\n"
          ]
        }
      ]
    }
  ]
}